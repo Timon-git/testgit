{
 "cells": [
  {
   "cell_type": "code",
   "execution_count": 24,
   "metadata": {},
   "outputs": [],
   "source": [
    "from gurobi import *\n",
    "import pandas as pd"
   ]
  },
  {
   "cell_type": "code",
   "execution_count": 77,
   "metadata": {},
   "outputs": [],
   "source": [
    "m = Model()\n",
    "time = [0,1,2,3,4]\n",
    "\n",
    "el_sizes = ['XS', 'S', 'M', 'L', 'XL']\n",
    "el_types = ['ALK', 'PEM']\n",
    "\n",
    "el_attributes = {'ALK': {'XS': {'Capacity': 80, 'Cost': 512016.84},\n",
    "                      'S': {'Capacity': 212, 'Cost': 1012876.18},\n",
    "                      'M': {'Capacity': 420, 'Cost': 1634540.78},\n",
    "                      'L': {'Capacity': 1000, 'Cost': 3000000},\n",
    "                      'XL': {'Capacity': 2500, 'Cost': 5697433.45}},\n",
    "              'PEM': {'XS': {'Capacity': 80, 'Cost': 512016.84},\n",
    "                      'S': {'Capacity': 212, 'Cost': 1012876.18},\n",
    "                      'M': {'Capacity': 420, 'Cost': 1634540.78},\n",
    "                      'L': {'Capacity': 1000, 'Cost': 3000000},\n",
    "                      'XL': {'Capacity': 2500, 'Cost': 5697433.45}}}"
   ]
  },
  {
   "cell_type": "code",
   "execution_count": 78,
   "metadata": {},
   "outputs": [
    {
     "name": "stdout",
     "output_type": "stream",
     "text": [
      "{('ALK', 'XS'): <gurobi.Var *Awaiting Model Update*>, ('ALK', 'S'): <gurobi.Var *Awaiting Model Update*>, ('ALK', 'M'): <gurobi.Var *Awaiting Model Update*>, ('ALK', 'L'): <gurobi.Var *Awaiting Model Update*>, ('ALK', 'XL'): <gurobi.Var *Awaiting Model Update*>, ('PEM', 'XS'): <gurobi.Var *Awaiting Model Update*>, ('PEM', 'S'): <gurobi.Var *Awaiting Model Update*>, ('PEM', 'M'): <gurobi.Var *Awaiting Model Update*>, ('PEM', 'L'): <gurobi.Var *Awaiting Model Update*>, ('PEM', 'XL'): <gurobi.Var *Awaiting Model Update*>}\n"
     ]
    }
   ],
   "source": [
    "x = m.addVars(time, vtype='C', name=\"x\")\n",
    "y = m.addVars(time, vtype='C', name=\"y\")\n",
    "a = m.addVars(el_types, el_sizes, vtype='B', name=\"a\")\n",
    "print(a)"
   ]
  },
  {
   "cell_type": "code",
   "execution_count": 81,
   "metadata": {},
   "outputs": [],
   "source": [
    "c1 = m.addConstrs(x[t] + 2*y[t] <= 5 for t in time)\n",
    "\n",
    "fs = m.addConstr(quicksum(a[species, size] for size in el_sizes for species in el_types) == 1)\n"
   ]
  },
  {
   "cell_type": "code",
   "execution_count": 83,
   "metadata": {},
   "outputs": [],
   "source": [
    "m.setObjective(quicksum(x[t] + y[t] + quicksum(a[species, size] * 10 for size in el_sizes for species in el_types) for t in time), GRB.MAXIMIZE)"
   ]
  },
  {
   "cell_type": "code",
   "execution_count": 84,
   "metadata": {},
   "outputs": [
    {
     "name": "stdout",
     "output_type": "stream",
     "text": [
      "Gurobi Optimizer version 9.0.1 build v9.0.1rc0 (mac64)\n",
      "Optimize a model with 17 rows, 20 columns and 50 nonzeros\n",
      "Model fingerprint: 0xcd5d3f10\n",
      "Variable types: 10 continuous, 10 integer (10 binary)\n",
      "Coefficient statistics:\n",
      "  Matrix range     [1e+00, 2e+00]\n",
      "  Objective range  [1e+00, 5e+01]\n",
      "  Bounds range     [1e+00, 1e+00]\n",
      "  RHS range        [1e+00, 5e+00]\n",
      "Found heuristic solution: objective 75.0000000\n",
      "Presolve removed 17 rows and 20 columns\n",
      "Presolve time: 0.01s\n",
      "Presolve: All rows and columns removed\n",
      "\n",
      "Explored 0 nodes (0 simplex iterations) in 0.01 seconds\n",
      "Thread count was 1 (of 8 available processors)\n",
      "\n",
      "Solution count 1: 75 \n",
      "\n",
      "Optimal solution found (tolerance 1.00e-04)\n",
      "Best objective 7.500000000000e+01, best bound 7.500000000000e+01, gap 0.0000%\n"
     ]
    }
   ],
   "source": [
    "m.optimize()"
   ]
  },
  {
   "cell_type": "code",
   "execution_count": 85,
   "metadata": {},
   "outputs": [
    {
     "name": "stdout",
     "output_type": "stream",
     "text": [
      "x[0] 5\n",
      "x[1] 5\n",
      "x[2] 5\n",
      "x[3] 5\n",
      "x[4] 5\n",
      "y[0] 0\n",
      "y[1] 0\n",
      "y[2] 0\n",
      "y[3] 0\n",
      "y[4] 0\n",
      "a[ALK,XS] 0\n",
      "a[ALK,S] 0\n",
      "a[ALK,M] 0\n",
      "a[ALK,L] 0\n",
      "a[ALK,XL] 0\n",
      "a[PEM,XS] 0\n",
      "a[PEM,S] 0\n",
      "a[PEM,M] 0\n",
      "a[PEM,L] 0\n",
      "a[PEM,XL] 1\n"
     ]
    }
   ],
   "source": [
    "for v in m.getVars():\n",
    "        print('%s %g' % (v.varName, v.x))"
   ]
  },
  {
   "cell_type": "code",
   "execution_count": null,
   "metadata": {},
   "outputs": [],
   "source": [
    "m.optimize()"
   ]
  },
  {
   "cell_type": "code",
   "execution_count": null,
   "metadata": {},
   "outputs": [],
   "source": []
  }
 ],
 "metadata": {
  "kernelspec": {
   "display_name": "Python 3",
   "language": "python",
   "name": "python3"
  },
  "language_info": {
   "codemirror_mode": {
    "name": "ipython",
    "version": 3
   },
   "file_extension": ".py",
   "mimetype": "text/x-python",
   "name": "python",
   "nbconvert_exporter": "python",
   "pygments_lexer": "ipython3",
   "version": "3.7.6"
  }
 },
 "nbformat": 4,
 "nbformat_minor": 4
}
